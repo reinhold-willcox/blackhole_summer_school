{
 "cells": [
  {
   "cell_type": "code",
   "execution_count": 28,
   "id": "b95348e7-eed7-47eb-bb1b-f68a2a17b3d5",
   "metadata": {},
   "outputs": [],
   "source": [
    "import numpy as np\n",
    "\n",
    "np.random.seed(np.datetime64('now').astype(int))"
   ]
  },
  {
   "cell_type": "code",
   "execution_count": 31,
   "id": "3d5aea84-89e6-4082-9698-619c77ff679f",
   "metadata": {},
   "outputs": [
    {
     "name": "stdout",
     "output_type": "stream",
     "text": [
      "../data/bybienxptj/\n"
     ]
    }
   ],
   "source": [
    "def run_compas(*args, **kwargs):\n",
    "\n",
    "    # Need a random string to hold the data\n",
    "    str_length = 10\n",
    "    ascii_lowercase = list('abcdefghijklmnopqrstuvwxyz')\n",
    "    random_str = ''.join(np.random.choice(ascii_lowercase) for i in range(str_length))\n",
    "    \n",
    "    outdir = '../data/{}/'.format(random_str)\n",
    "\n",
    "    print(outdir)\n",
    "\n",
    "run_compas()"
   ]
  },
  {
   "cell_type": "code",
   "execution_count": null,
   "id": "240700d9-b124-4961-a690-dbbffc48c983",
   "metadata": {},
   "outputs": [],
   "source": []
  }
 ],
 "metadata": {
  "jupytext": {
   "formats": "ipynb,auto:light"
  },
  "kernelspec": {
   "display_name": "Python 3 (ipykernel)",
   "language": "python",
   "name": "python3"
  },
  "language_info": {
   "codemirror_mode": {
    "name": "ipython",
    "version": 3
   },
   "file_extension": ".py",
   "mimetype": "text/x-python",
   "name": "python",
   "nbconvert_exporter": "python",
   "pygments_lexer": "ipython3",
   "version": "3.11.3"
  }
 },
 "nbformat": 4,
 "nbformat_minor": 5
}
