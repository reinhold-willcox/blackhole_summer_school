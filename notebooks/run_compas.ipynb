{
 "cells": [
  {
   "cell_type": "code",
   "execution_count": 1,
   "id": "b95348e7-eed7-47eb-bb1b-f68a2a17b3d5",
   "metadata": {},
   "outputs": [],
   "source": [
    "import numpy as np\n",
    "import h5py as h5"
   ]
  },
  {
   "cell_type": "code",
   "execution_count": null,
   "id": "eef0fec8-7e36-4cdc-85ee-3ef8900660bf",
   "metadata": {},
   "outputs": [
    {
     "name": "stdout",
     "output_type": "stream",
     "text": [
      "rm -f profiling.o utils.o yaml.o vector3d.o Rand.o Options.o Log.o Errors.o BaseStar.o Star.o MainSequence.o MS_lte_07.o MS_gt_07.o CH.o GiantBranch.o HG.o FGB.o CHeB.o EAGB.o TPAGB.o HeMS.o HeHG.o HeGB.o Remnants.o WhiteDwarfs.o HeWD.o COWD.o ONeWD.o NS.o BH.o MR.o BinaryConstituentStar.o BaseBinaryStar.o BinaryStar.o main.o COMPAS COMPAS_STATIC\n",
      "Building COMPAS with g++\n",
      "g++ -std=c++11 -Wall -Woverloaded-virtual  -I/include -I/include -I/usr/include/hdf5/serial -I. -c profiling.cpp\n",
      "g++ -std=c++11 -Wall -Woverloaded-virtual  -I/include -I/include -I/usr/include/hdf5/serial -I. -c utils.cpp\n",
      "g++ -std=c++11 -Wall -Woverloaded-virtual  -I/include -I/include -I/usr/include/hdf5/serial -I. -c yaml.cpp\n",
      "g++ -std=c++11 -Wall -Woverloaded-virtual  -I/include -I/include -I/usr/include/hdf5/serial -I. -c vector3d.cpp\n",
      "g++ -std=c++11 -Wall -Woverloaded-virtual  -I/include -I/include -I/usr/include/hdf5/serial -I. -c Rand.cpp\n",
      "g++ -std=c++11 -Wall -Woverloaded-virtual  -I/include -I/include -I/usr/include/hdf5/serial -I. -c Options.cpp\n",
      "g++ -std=c++11 -Wall -Woverloaded-virtual  -I/include -I/include -I/usr/include/hdf5/serial -I. -c Log.cpp\n",
      "g++ -std=c++11 -Wall -Woverloaded-virtual  -I/include -I/include -I/usr/include/hdf5/serial -I. -c Errors.cpp\n",
      "g++ -std=c++11 -Wall -Woverloaded-virtual  -I/include -I/include -I/usr/include/hdf5/serial -I. -c BaseStar.cpp\n",
      "g++ -std=c++11 -Wall -Woverloaded-virtual  -I/include -I/include -I/usr/include/hdf5/serial -I. -c Star.cpp\n",
      "g++ -std=c++11 -Wall -Woverloaded-virtual  -I/include -I/include -I/usr/include/hdf5/serial -I. -c MainSequence.cpp\n",
      "g++ -std=c++11 -Wall -Woverloaded-virtual  -I/include -I/include -I/usr/include/hdf5/serial -I. -c MS_lte_07.cpp\n",
      "g++ -std=c++11 -Wall -Woverloaded-virtual  -I/include -I/include -I/usr/include/hdf5/serial -I. -c MS_gt_07.cpp\n",
      "g++ -std=c++11 -Wall -Woverloaded-virtual  -I/include -I/include -I/usr/include/hdf5/serial -I. -c CH.cpp\n",
      "g++ -std=c++11 -Wall -Woverloaded-virtual  -I/include -I/include -I/usr/include/hdf5/serial -I. -c GiantBranch.cpp\n",
      "g++ -std=c++11 -Wall -Woverloaded-virtual  -I/include -I/include -I/usr/include/hdf5/serial -I. -c HG.cpp\n",
      "g++ -std=c++11 -Wall -Woverloaded-virtual  -I/include -I/include -I/usr/include/hdf5/serial -I. -c FGB.cpp\n",
      "g++ -std=c++11 -Wall -Woverloaded-virtual  -I/include -I/include -I/usr/include/hdf5/serial -I. -c CHeB.cpp\n",
      "g++ -std=c++11 -Wall -Woverloaded-virtual  -I/include -I/include -I/usr/include/hdf5/serial -I. -c EAGB.cpp\n",
      "g++ -std=c++11 -Wall -Woverloaded-virtual  -I/include -I/include -I/usr/include/hdf5/serial -I. -c TPAGB.cpp\n",
      "g++ -std=c++11 -Wall -Woverloaded-virtual  -I/include -I/include -I/usr/include/hdf5/serial -I. -c HeMS.cpp\n",
      "g++ -std=c++11 -Wall -Woverloaded-virtual  -I/include -I/include -I/usr/include/hdf5/serial -I. -c HeHG.cpp\n",
      "g++ -std=c++11 -Wall -Woverloaded-virtual  -I/include -I/include -I/usr/include/hdf5/serial -I. -c HeGB.cpp\n",
      "g++ -std=c++11 -Wall -Woverloaded-virtual  -I/include -I/include -I/usr/include/hdf5/serial -I. -c Remnants.cpp\n",
      "g++ -std=c++11 -Wall -Woverloaded-virtual  -I/include -I/include -I/usr/include/hdf5/serial -I. -c WhiteDwarfs.cpp\n",
      "g++ -std=c++11 -Wall -Woverloaded-virtual  -I/include -I/include -I/usr/include/hdf5/serial -I. -c HeWD.cpp\n",
      "g++ -std=c++11 -Wall -Woverloaded-virtual  -I/include -I/include -I/usr/include/hdf5/serial -I. -c COWD.cpp\n"
     ]
    }
   ],
   "source": [
    "def compile_compas():\n",
    "    !(cd scripts/COMPAS-src/ && make clean && make -f Makefile)\n",
    "\n",
    "compile_compas()"
   ]
  },
  {
   "cell_type": "code",
   "execution_count": 3,
   "id": "240700d9-b124-4961-a690-dbbffc48c983",
   "metadata": {
    "lines_to_next_cell": 1
   },
   "outputs": [],
   "source": [
    "def generate_outdir(str_length=10):\n",
    "    # Need a random string to hold the data\n",
    "    np.random.seed(np.datetime64('now').astype(int))\n",
    "    ascii_lowercase = list('abcdefghijklmnopqrstuvwxyz')\n",
    "    random_str = ''.join(np.random.choice(ascii_lowercase) for i in range(str_length))\n",
    "    return random_str\n",
    "\n",
    "def run_compas(*args, **kwargs):\n",
    "    outdir=generate_outdir()\n",
    "    compas_exe = \"./scripts/COMPAS-src/COMPAS\"\n",
    "    !{compas_exe} -n 1 -o 'data/on_the_fly_data/' -c {outdir}\n",
    "    return outdir\n",
    "    \n",
    "def get_myf(outdir):\n",
    "    return h5.File('data/on_the_fly_data/{}/{}.h5'.format(outdir, outdir), 'r')"
   ]
  },
  {
   "cell_type": "code",
   "execution_count": 4,
   "id": "11525c60-c697-48a6-a02a-ae2ce9788949",
   "metadata": {
    "lines_to_next_cell": 0
   },
   "outputs": [
    {
     "name": "stdout",
     "output_type": "stream",
     "text": [
      "/bin/bash: line 1: ./scripts/COMPAS: No such file or directory\n"
     ]
    },
    {
     "ename": "FileNotFoundError",
     "evalue": "[Errno 2] Unable to synchronously open file (unable to open file: name = 'data/on_the_fly_data/qrsczvxkka/qrsczvxkka.h5', errno = 2, error message = 'No such file or directory', flags = 0, o_flags = 0)",
     "output_type": "error",
     "traceback": [
      "\u001b[0;31m---------------------------------------------------------------------------\u001b[0m",
      "\u001b[0;31mFileNotFoundError\u001b[0m                         Traceback (most recent call last)",
      "Cell \u001b[0;32mIn[4], line 2\u001b[0m\n\u001b[1;32m      1\u001b[0m outdir \u001b[38;5;241m=\u001b[39m run_compas()\n\u001b[0;32m----> 2\u001b[0m myf \u001b[38;5;241m=\u001b[39m \u001b[43mget_myf\u001b[49m\u001b[43m(\u001b[49m\u001b[43moutdir\u001b[49m\u001b[43m)\u001b[49m\n\u001b[1;32m      3\u001b[0m myf\u001b[38;5;241m.\u001b[39mkeys()\n",
      "Cell \u001b[0;32mIn[3], line 14\u001b[0m, in \u001b[0;36mget_myf\u001b[0;34m(outdir)\u001b[0m\n\u001b[1;32m     13\u001b[0m \u001b[38;5;28;01mdef\u001b[39;00m \u001b[38;5;21mget_myf\u001b[39m(outdir):\n\u001b[0;32m---> 14\u001b[0m     \u001b[38;5;28;01mreturn\u001b[39;00m \u001b[43mh5\u001b[49m\u001b[38;5;241;43m.\u001b[39;49m\u001b[43mFile\u001b[49m\u001b[43m(\u001b[49m\u001b[38;5;124;43m'\u001b[39;49m\u001b[38;5;124;43mdata/on_the_fly_data/\u001b[39;49m\u001b[38;5;132;43;01m{}\u001b[39;49;00m\u001b[38;5;124;43m/\u001b[39;49m\u001b[38;5;132;43;01m{}\u001b[39;49;00m\u001b[38;5;124;43m.h5\u001b[39;49m\u001b[38;5;124;43m'\u001b[39;49m\u001b[38;5;241;43m.\u001b[39;49m\u001b[43mformat\u001b[49m\u001b[43m(\u001b[49m\u001b[43moutdir\u001b[49m\u001b[43m,\u001b[49m\u001b[43m \u001b[49m\u001b[43moutdir\u001b[49m\u001b[43m)\u001b[49m\u001b[43m,\u001b[49m\u001b[43m \u001b[49m\u001b[38;5;124;43m'\u001b[39;49m\u001b[38;5;124;43mr\u001b[39;49m\u001b[38;5;124;43m'\u001b[39;49m\u001b[43m)\u001b[49m\n",
      "File \u001b[0;32m~/anaconda3/lib/python3.11/site-packages/h5py/_hl/files.py:562\u001b[0m, in \u001b[0;36mFile.__init__\u001b[0;34m(self, name, mode, driver, libver, userblock_size, swmr, rdcc_nslots, rdcc_nbytes, rdcc_w0, track_order, fs_strategy, fs_persist, fs_threshold, fs_page_size, page_buf_size, min_meta_keep, min_raw_keep, locking, alignment_threshold, alignment_interval, meta_block_size, **kwds)\u001b[0m\n\u001b[1;32m    553\u001b[0m     fapl \u001b[38;5;241m=\u001b[39m make_fapl(driver, libver, rdcc_nslots, rdcc_nbytes, rdcc_w0,\n\u001b[1;32m    554\u001b[0m                      locking, page_buf_size, min_meta_keep, min_raw_keep,\n\u001b[1;32m    555\u001b[0m                      alignment_threshold\u001b[38;5;241m=\u001b[39malignment_threshold,\n\u001b[1;32m    556\u001b[0m                      alignment_interval\u001b[38;5;241m=\u001b[39malignment_interval,\n\u001b[1;32m    557\u001b[0m                      meta_block_size\u001b[38;5;241m=\u001b[39mmeta_block_size,\n\u001b[1;32m    558\u001b[0m                      \u001b[38;5;241m*\u001b[39m\u001b[38;5;241m*\u001b[39mkwds)\n\u001b[1;32m    559\u001b[0m     fcpl \u001b[38;5;241m=\u001b[39m make_fcpl(track_order\u001b[38;5;241m=\u001b[39mtrack_order, fs_strategy\u001b[38;5;241m=\u001b[39mfs_strategy,\n\u001b[1;32m    560\u001b[0m                      fs_persist\u001b[38;5;241m=\u001b[39mfs_persist, fs_threshold\u001b[38;5;241m=\u001b[39mfs_threshold,\n\u001b[1;32m    561\u001b[0m                      fs_page_size\u001b[38;5;241m=\u001b[39mfs_page_size)\n\u001b[0;32m--> 562\u001b[0m     fid \u001b[38;5;241m=\u001b[39m \u001b[43mmake_fid\u001b[49m\u001b[43m(\u001b[49m\u001b[43mname\u001b[49m\u001b[43m,\u001b[49m\u001b[43m \u001b[49m\u001b[43mmode\u001b[49m\u001b[43m,\u001b[49m\u001b[43m \u001b[49m\u001b[43muserblock_size\u001b[49m\u001b[43m,\u001b[49m\u001b[43m \u001b[49m\u001b[43mfapl\u001b[49m\u001b[43m,\u001b[49m\u001b[43m \u001b[49m\u001b[43mfcpl\u001b[49m\u001b[43m,\u001b[49m\u001b[43m \u001b[49m\u001b[43mswmr\u001b[49m\u001b[38;5;241;43m=\u001b[39;49m\u001b[43mswmr\u001b[49m\u001b[43m)\u001b[49m\n\u001b[1;32m    564\u001b[0m \u001b[38;5;28;01mif\u001b[39;00m \u001b[38;5;28misinstance\u001b[39m(libver, \u001b[38;5;28mtuple\u001b[39m):\n\u001b[1;32m    565\u001b[0m     \u001b[38;5;28mself\u001b[39m\u001b[38;5;241m.\u001b[39m_libver \u001b[38;5;241m=\u001b[39m libver\n",
      "File \u001b[0;32m~/anaconda3/lib/python3.11/site-packages/h5py/_hl/files.py:235\u001b[0m, in \u001b[0;36mmake_fid\u001b[0;34m(name, mode, userblock_size, fapl, fcpl, swmr)\u001b[0m\n\u001b[1;32m    233\u001b[0m     \u001b[38;5;28;01mif\u001b[39;00m swmr \u001b[38;5;129;01mand\u001b[39;00m swmr_support:\n\u001b[1;32m    234\u001b[0m         flags \u001b[38;5;241m|\u001b[39m\u001b[38;5;241m=\u001b[39m h5f\u001b[38;5;241m.\u001b[39mACC_SWMR_READ\n\u001b[0;32m--> 235\u001b[0m     fid \u001b[38;5;241m=\u001b[39m \u001b[43mh5f\u001b[49m\u001b[38;5;241;43m.\u001b[39;49m\u001b[43mopen\u001b[49m\u001b[43m(\u001b[49m\u001b[43mname\u001b[49m\u001b[43m,\u001b[49m\u001b[43m \u001b[49m\u001b[43mflags\u001b[49m\u001b[43m,\u001b[49m\u001b[43m \u001b[49m\u001b[43mfapl\u001b[49m\u001b[38;5;241;43m=\u001b[39;49m\u001b[43mfapl\u001b[49m\u001b[43m)\u001b[49m\n\u001b[1;32m    236\u001b[0m \u001b[38;5;28;01melif\u001b[39;00m mode \u001b[38;5;241m==\u001b[39m \u001b[38;5;124m'\u001b[39m\u001b[38;5;124mr+\u001b[39m\u001b[38;5;124m'\u001b[39m:\n\u001b[1;32m    237\u001b[0m     fid \u001b[38;5;241m=\u001b[39m h5f\u001b[38;5;241m.\u001b[39mopen(name, h5f\u001b[38;5;241m.\u001b[39mACC_RDWR, fapl\u001b[38;5;241m=\u001b[39mfapl)\n",
      "File \u001b[0;32mh5py/_objects.pyx:54\u001b[0m, in \u001b[0;36mh5py._objects.with_phil.wrapper\u001b[0;34m()\u001b[0m\n",
      "File \u001b[0;32mh5py/_objects.pyx:55\u001b[0m, in \u001b[0;36mh5py._objects.with_phil.wrapper\u001b[0;34m()\u001b[0m\n",
      "File \u001b[0;32mh5py/h5f.pyx:102\u001b[0m, in \u001b[0;36mh5py.h5f.open\u001b[0;34m()\u001b[0m\n",
      "\u001b[0;31mFileNotFoundError\u001b[0m: [Errno 2] Unable to synchronously open file (unable to open file: name = 'data/on_the_fly_data/qrsczvxkka/qrsczvxkka.h5', errno = 2, error message = 'No such file or directory', flags = 0, o_flags = 0)"
     ]
    }
   ],
   "source": [
    "\n",
    "outdir = run_compas()\n",
    "myf = get_myf(outdir)\n",
    "myf.keys()"
   ]
  },
  {
   "cell_type": "code",
   "execution_count": null,
   "id": "5942f8a7-d951-4124-a22c-2588336c106c",
   "metadata": {},
   "outputs": [],
   "source": []
  },
  {
   "cell_type": "code",
   "execution_count": null,
   "id": "3d8343a1",
   "metadata": {},
   "outputs": [],
   "source": []
  }
 ],
 "metadata": {
  "jupytext": {
   "formats": "ipynb,py:light"
  },
  "kernelspec": {
   "display_name": "Python 3 (ipykernel)",
   "language": "python",
   "name": "python3"
  },
  "language_info": {
   "codemirror_mode": {
    "name": "ipython",
    "version": 3
   },
   "file_extension": ".py",
   "mimetype": "text/x-python",
   "name": "python",
   "nbconvert_exporter": "python",
   "pygments_lexer": "ipython3",
   "version": "3.11.3"
  }
 },
 "nbformat": 4,
 "nbformat_minor": 5
}
