{
 "cells": [
  {
   "cell_type": "code",
   "execution_count": 1,
   "id": "b95348e7-eed7-47eb-bb1b-f68a2a17b3d5",
   "metadata": {},
   "outputs": [],
   "source": [
    "import numpy as np\n",
    "import h5py as h5"
   ]
  },
  {
   "cell_type": "code",
   "execution_count": 2,
   "id": "240700d9-b124-4961-a690-dbbffc48c983",
   "metadata": {
    "lines_to_next_cell": 0
   },
   "outputs": [],
   "source": [
    "def generate_outdir(str_length=10):\n",
    "    # Need a random string to hold the data\n",
    "    np.random.seed(np.datetime64('now').astype(int))\n",
    "    ascii_lowercase = list('abcdefghijklmnopqrstuvwxyz')\n",
    "    random_str = ''.join(np.random.choice(ascii_lowercase) for i in range(str_length))\n",
    "    return random_str\n",
    "    \n",
    "def run_compas(*args, **kwargs):\n",
    "    outdir=generate_outdir()\n",
    "    !././scripts/COMPAS -n 1 -o 'data/on_the_fly_data/' -c {outdir}\n",
    "    return outdir\n",
    "    \n",
    "def get_myf(outdir):\n",
    "    return h5.File('data/on_the_fly_data/{}/{}.h5'.format(outdir, outdir), 'r')\n",
    "    "
   ]
  },
  {
   "cell_type": "code",
   "execution_count": 3,
   "id": "11525c60-c697-48a6-a02a-ae2ce9788949",
   "metadata": {},
   "outputs": [
    {
     "name": "stdout",
     "output_type": "stream",
     "text": [
      "\n",
      "COMPAS v02.43.05\n",
      "Compact Object Mergers: Population Astrophysics and Statistics\n",
      "by Team COMPAS (http://compas.science/index.html)\n",
      "A binary star simulator\n",
      "\n",
      "Go to https://compas.readthedocs.io/en/latest/index.html for the online documentation\n",
      "Check https://compas.readthedocs.io/en/latest/pages/whats-new.html to see what's new in the latest release\n",
      "\n",
      "Start generating binaries at Mon Apr 22 13:41:06 2024\n",
      "\n",
      "0: Stars merged: (Main_Sequence_>_0.7 -> Naked_Helium_Star_MS) + (Main_Sequence_>_0.7 -> Main_Sequence_>_0.7)\n",
      "\n",
      "Generated 1 of 1 binaries requested\n",
      "\n",
      "Simulation completed\n",
      "\n",
      "End generating binaries at Mon Apr 22 13:41:06 2024\n",
      "\n",
      "Clock time = 0.010589 CPU seconds\n",
      "Wall time  = 0000:00:00 (hhhh:mm:ss)\n"
     ]
    },
    {
     "data": {
      "text/plain": [
       "<KeysViewHDF5 ['BSE_Common_Envelopes', 'BSE_RLOF', 'BSE_System_Parameters', 'Run_Details']>"
      ]
     },
     "execution_count": 3,
     "metadata": {},
     "output_type": "execute_result"
    }
   ],
   "source": [
    "\n",
    "outdir = run_compas()\n",
    "myf = get_myf(outdir)\n",
    "myf.keys()"
   ]
  },
  {
   "cell_type": "code",
   "execution_count": null,
   "id": "5942f8a7-d951-4124-a22c-2588336c106c",
   "metadata": {
    "lines_to_next_cell": 2
   },
   "outputs": [],
   "source": []
  }
 ],
 "metadata": {
  "jupytext": {
   "formats": "ipynb,py:light"
  },
  "kernelspec": {
   "display_name": "Python 3 (ipykernel)",
   "language": "python",
   "name": "python3"
  },
  "language_info": {
   "codemirror_mode": {
    "name": "ipython",
    "version": 3
   },
   "file_extension": ".py",
   "mimetype": "text/x-python",
   "name": "python",
   "nbconvert_exporter": "python",
   "pygments_lexer": "ipython3",
   "version": "3.11.3"
  }
 },
 "nbformat": 4,
 "nbformat_minor": 5
}
