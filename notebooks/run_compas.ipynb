{
 "cells": [
  {
   "cell_type": "code",
   "execution_count": 1,
   "id": "b95348e7-eed7-47eb-bb1b-f68a2a17b3d5",
   "metadata": {},
   "outputs": [],
   "source": [
    "import numpy as np\n",
    "import h5py as h5"
   ]
  },
  {
   "cell_type": "code",
   "execution_count": 8,
   "id": "eef0fec8-7e36-4cdc-85ee-3ef8900660bf",
   "metadata": {},
   "outputs": [
    {
     "name": "stdout",
     "output_type": "stream",
     "text": [
      "rm -f profiling.o utils.o yaml.o vector3d.o Rand.o Options.o Log.o Errors.o BaseStar.o Star.o MainSequence.o MS_lte_07.o MS_gt_07.o CH.o GiantBranch.o HG.o FGB.o CHeB.o EAGB.o TPAGB.o HeMS.o HeHG.o HeGB.o Remnants.o WhiteDwarfs.o HeWD.o COWD.o ONeWD.o NS.o BH.o MR.o BinaryConstituentStar.o BaseBinaryStar.o BinaryStar.o main.o COMPAS COMPAS_STATIC\n",
      "Building COMPAS with g++\n",
      "g++ -std=c++11 -Wall -Woverloaded-virtual  -I/include -I/include -I/usr/include/hdf5/serial -I. -c profiling.cpp\n",
      "g++ -std=c++11 -Wall -Woverloaded-virtual  -I/include -I/include -I/usr/include/hdf5/serial -I. -c utils.cpp\n",
      "g++ -std=c++11 -Wall -Woverloaded-virtual  -I/include -I/include -I/usr/include/hdf5/serial -I. -c yaml.cpp\n",
      "g++ -std=c++11 -Wall -Woverloaded-virtual  -I/include -I/include -I/usr/include/hdf5/serial -I. -c vector3d.cpp\n",
      "g++ -std=c++11 -Wall -Woverloaded-virtual  -I/include -I/include -I/usr/include/hdf5/serial -I. -c Rand.cpp\n",
      "g++ -std=c++11 -Wall -Woverloaded-virtual  -I/include -I/include -I/usr/include/hdf5/serial -I. -c Options.cpp\n",
      "g++ -std=c++11 -Wall -Woverloaded-virtual  -I/include -I/include -I/usr/include/hdf5/serial -I. -c Log.cpp\n",
      "g++ -std=c++11 -Wall -Woverloaded-virtual  -I/include -I/include -I/usr/include/hdf5/serial -I. -c Errors.cpp\n",
      "g++ -std=c++11 -Wall -Woverloaded-virtual  -I/include -I/include -I/usr/include/hdf5/serial -I. -c BaseStar.cpp\n",
      "g++ -std=c++11 -Wall -Woverloaded-virtual  -I/include -I/include -I/usr/include/hdf5/serial -I. -c Star.cpp\n",
      "g++ -std=c++11 -Wall -Woverloaded-virtual  -I/include -I/include -I/usr/include/hdf5/serial -I. -c MainSequence.cpp\n",
      "g++ -std=c++11 -Wall -Woverloaded-virtual  -I/include -I/include -I/usr/include/hdf5/serial -I. -c MS_lte_07.cpp\n",
      "g++ -std=c++11 -Wall -Woverloaded-virtual  -I/include -I/include -I/usr/include/hdf5/serial -I. -c MS_gt_07.cpp\n",
      "g++ -std=c++11 -Wall -Woverloaded-virtual  -I/include -I/include -I/usr/include/hdf5/serial -I. -c CH.cpp\n",
      "g++ -std=c++11 -Wall -Woverloaded-virtual  -I/include -I/include -I/usr/include/hdf5/serial -I. -c GiantBranch.cpp\n",
      "g++ -std=c++11 -Wall -Woverloaded-virtual  -I/include -I/include -I/usr/include/hdf5/serial -I. -c HG.cpp\n",
      "g++ -std=c++11 -Wall -Woverloaded-virtual  -I/include -I/include -I/usr/include/hdf5/serial -I. -c FGB.cpp\n",
      "g++ -std=c++11 -Wall -Woverloaded-virtual  -I/include -I/include -I/usr/include/hdf5/serial -I. -c CHeB.cpp\n",
      "g++ -std=c++11 -Wall -Woverloaded-virtual  -I/include -I/include -I/usr/include/hdf5/serial -I. -c EAGB.cpp\n",
      "g++ -std=c++11 -Wall -Woverloaded-virtual  -I/include -I/include -I/usr/include/hdf5/serial -I. -c TPAGB.cpp\n",
      "g++ -std=c++11 -Wall -Woverloaded-virtual  -I/include -I/include -I/usr/include/hdf5/serial -I. -c HeMS.cpp\n",
      "g++ -std=c++11 -Wall -Woverloaded-virtual  -I/include -I/include -I/usr/include/hdf5/serial -I. -c HeHG.cpp\n",
      "g++ -std=c++11 -Wall -Woverloaded-virtual  -I/include -I/include -I/usr/include/hdf5/serial -I. -c HeGB.cpp\n",
      "g++ -std=c++11 -Wall -Woverloaded-virtual  -I/include -I/include -I/usr/include/hdf5/serial -I. -c Remnants.cpp\n",
      "g++ -std=c++11 -Wall -Woverloaded-virtual  -I/include -I/include -I/usr/include/hdf5/serial -I. -c WhiteDwarfs.cpp\n",
      "g++ -std=c++11 -Wall -Woverloaded-virtual  -I/include -I/include -I/usr/include/hdf5/serial -I. -c HeWD.cpp\n",
      "g++ -std=c++11 -Wall -Woverloaded-virtual  -I/include -I/include -I/usr/include/hdf5/serial -I. -c COWD.cpp\n",
      "g++ -std=c++11 -Wall -Woverloaded-virtual  -I/include -I/include -I/usr/include/hdf5/serial -I. -c ONeWD.cpp\n",
      "g++ -std=c++11 -Wall -Woverloaded-virtual  -I/include -I/include -I/usr/include/hdf5/serial -I. -c NS.cpp\n",
      "g++ -std=c++11 -Wall -Woverloaded-virtual  -I/include -I/include -I/usr/include/hdf5/serial -I. -c BH.cpp\n",
      "g++ -std=c++11 -Wall -Woverloaded-virtual  -I/include -I/include -I/usr/include/hdf5/serial -I. -c MR.cpp\n",
      "g++ -std=c++11 -Wall -Woverloaded-virtual  -I/include -I/include -I/usr/include/hdf5/serial -I. -c BinaryConstituentStar.cpp\n",
      "g++ -std=c++11 -Wall -Woverloaded-virtual  -I/include -I/include -I/usr/include/hdf5/serial -I. -c BaseBinaryStar.cpp\n",
      "g++ -std=c++11 -Wall -Woverloaded-virtual  -I/include -I/include -I/usr/include/hdf5/serial -I. -c BinaryStar.cpp\n",
      "g++ -std=c++11 -Wall -Woverloaded-virtual  -I/include -I/include -I/usr/include/hdf5/serial -I. -c main.cpp\n",
      "profiling.cpp utils.cpp yaml.cpp vector3d.cpp Rand.cpp Options.cpp Log.cpp Errors.cpp BaseStar.cpp Star.cpp MainSequence.cpp MS_lte_07.cpp MS_gt_07.cpp CH.cpp GiantBranch.cpp HG.cpp FGB.cpp CHeB.cpp EAGB.cpp TPAGB.cpp HeMS.cpp HeHG.cpp HeGB.cpp Remnants.cpp WhiteDwarfs.cpp HeWD.cpp COWD.cpp ONeWD.cpp NS.cpp BH.cpp MR.cpp BinaryConstituentStar.cpp BaseBinaryStar.cpp BinaryStar.cpp main.cpp\n",
      "profiling.o utils.o yaml.o vector3d.o Rand.o Options.o Log.o Errors.o BaseStar.o Star.o MainSequence.o MS_lte_07.o MS_gt_07.o CH.o GiantBranch.o HG.o FGB.o CHeB.o EAGB.o TPAGB.o HeMS.o HeHG.o HeGB.o Remnants.o WhiteDwarfs.o HeWD.o COWD.o ONeWD.o NS.o BH.o MR.o BinaryConstituentStar.o BaseBinaryStar.o BinaryStar.o main.o\n",
      "g++ profiling.o utils.o yaml.o vector3d.o Rand.o Options.o Log.o Errors.o BaseStar.o Star.o MainSequence.o MS_lte_07.o MS_gt_07.o CH.o GiantBranch.o HG.o FGB.o CHeB.o EAGB.o TPAGB.o HeMS.o HeHG.o HeGB.o Remnants.o WhiteDwarfs.o HeWD.o COWD.o ONeWD.o NS.o BH.o MR.o BinaryConstituentStar.o BaseBinaryStar.o BinaryStar.o main.o -L/lib -L/lib -L/usr/lib/x86_64-linux-gnu/hdf5/serial -Xlinker -rpath -Xlinker /lib -lhdf5_hl_cpp -lhdf5_cpp -lhdf5_hl -lhdf5 -lm -lz -ldl -lpthread -lgsl -lgslcblas -lboost_filesystem -lboost_program_options -lboost_system -o COMPAS\n",
      "profiling.o utils.o yaml.o vector3d.o Rand.o Options.o Log.o Errors.o BaseStar.o Star.o MainSequence.o MS_lte_07.o MS_gt_07.o CH.o GiantBranch.o HG.o FGB.o CHeB.o EAGB.o TPAGB.o HeMS.o HeHG.o HeGB.o Remnants.o WhiteDwarfs.o HeWD.o COWD.o ONeWD.o NS.o BH.o MR.o BinaryConstituentStar.o BaseBinaryStar.o BinaryStar.o main.o\n"
     ]
    }
   ],
   "source": [
    "def compile_compas():\n",
    "    !(cd scripts/COMPAS-src/ && make clean && make -f Makefile)\n",
    "\n",
    "compile_compas()"
   ]
  },
  {
   "cell_type": "code",
   "execution_count": 9,
   "id": "240700d9-b124-4961-a690-dbbffc48c983",
   "metadata": {
    "lines_to_next_cell": 1
   },
   "outputs": [],
   "source": [
    "def generate_outdir(str_length=10):\n",
    "    # Need a random string to hold the data\n",
    "    np.random.seed(np.datetime64('now').astype(int))\n",
    "    ascii_lowercase = list('abcdefghijklmnopqrstuvwxyz')\n",
    "    random_str = ''.join(np.random.choice(ascii_lowercase) for i in range(str_length))\n",
    "    return random_str\n",
    "\n",
    "def run_compas(*args, **kwargs):\n",
    "    outdir=generate_outdir()\n",
    "    compas_exe = \"./scripts/COMPAS-src/COMPAS\"\n",
    "    !{compas_exe} -n 1 -o 'data/on_the_fly_data/' -c {outdir}\n",
    "    return outdir\n",
    "    \n",
    "def get_myf(outdir):\n",
    "    return h5.File('data/on_the_fly_data/{}/{}.h5'.format(outdir, outdir), 'r')"
   ]
  },
  {
   "cell_type": "code",
   "execution_count": 10,
   "id": "11525c60-c697-48a6-a02a-ae2ce9788949",
   "metadata": {
    "lines_to_next_cell": 0
   },
   "outputs": [
    {
     "name": "stdout",
     "output_type": "stream",
     "text": [
      "\n",
      "COMPAS v02.43.05\n",
      "Compact Object Mergers: Population Astrophysics and Statistics\n",
      "by Team COMPAS (http://compas.science/index.html)\n",
      "A binary star simulator\n",
      "\n",
      "Go to https://compas.readthedocs.io/en/latest/index.html for the online documentation\n",
      "Check https://compas.readthedocs.io/en/latest/pages/whats-new.html to see what's new in the latest release\n",
      "\n",
      "Start generating binaries at Mon Apr 22 16:28:05 2024\n",
      "\n",
      "0: Allowed time exceeded: (Main_Sequence_>_0.7 -> Black_Hole) + (Main_Sequence_>_0.7 -> Carbon-Oxygen_White_Dwarf)\n",
      "\n",
      "Generated 1 of 1 binaries requested\n",
      "\n",
      "Simulation completed\n",
      "\n",
      "End generating binaries at Mon Apr 22 16:28:05 2024\n",
      "\n",
      "Clock time = 0.064018 CPU seconds\n",
      "Wall time  = 0000:00:00 (hhhh:mm:ss)\n"
     ]
    },
    {
     "data": {
      "text/plain": [
       "<KeysViewHDF5 ['BSE_Supernovae', 'BSE_System_Parameters', 'Run_Details']>"
      ]
     },
     "execution_count": 10,
     "metadata": {},
     "output_type": "execute_result"
    }
   ],
   "source": [
    "\n",
    "outdir = run_compas()\n",
    "myf = get_myf(outdir)\n",
    "myf.keys()"
   ]
  },
  {
   "cell_type": "code",
   "execution_count": null,
   "id": "5942f8a7-d951-4124-a22c-2588336c106c",
   "metadata": {},
   "outputs": [],
   "source": []
  },
  {
   "cell_type": "code",
   "execution_count": null,
   "id": "3d8343a1",
   "metadata": {},
   "outputs": [],
   "source": []
  }
 ],
 "metadata": {
  "jupytext": {
   "formats": "ipynb,py:light"
  },
  "kernelspec": {
   "display_name": "Python 3 (ipykernel)",
   "language": "python",
   "name": "python3"
  },
  "language_info": {
   "codemirror_mode": {
    "name": "ipython",
    "version": 3
   },
   "file_extension": ".py",
   "mimetype": "text/x-python",
   "name": "python",
   "nbconvert_exporter": "python",
   "pygments_lexer": "ipython3",
   "version": "3.11.3"
  }
 },
 "nbformat": 4,
 "nbformat_minor": 5
}
